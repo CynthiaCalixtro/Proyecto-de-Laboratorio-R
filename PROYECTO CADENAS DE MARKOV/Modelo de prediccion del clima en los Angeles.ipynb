{
 "cells": [
  {
   "cell_type": "markdown",
   "metadata": {},
   "source": [
    "# Modelo de predicción del clima en Los Angeles"
   ]
  },
  {
   "cell_type": "code",
   "execution_count": 6,
   "metadata": {},
   "outputs": [
    {
     "data": {
      "text/html": [
       "<table>\n",
       "<thead><tr><th></th><th scope=col>S1</th><th scope=col>S2</th><th scope=col>S3</th></tr></thead>\n",
       "<tbody>\n",
       "\t<tr><th scope=row>S1</th><td>0.4</td><td>0.4</td><td>0.2</td></tr>\n",
       "\t<tr><th scope=row>S2</th><td>0.2</td><td>0.5</td><td>0.3</td></tr>\n",
       "\t<tr><th scope=row>S3</th><td>0.1</td><td>0.2</td><td>0.7</td></tr>\n",
       "</tbody>\n",
       "</table>\n"
      ],
      "text/latex": [
       "\\begin{tabular}{r|lll}\n",
       "  & S1 & S2 & S3\\\\\n",
       "\\hline\n",
       "\tS1 & 0.4 & 0.4 & 0.2\\\\\n",
       "\tS2 & 0.2 & 0.5 & 0.3\\\\\n",
       "\tS3 & 0.1 & 0.2 & 0.7\\\\\n",
       "\\end{tabular}\n"
      ],
      "text/markdown": [
       "\n",
       "| <!--/--> | S1 | S2 | S3 | \n",
       "|---|---|---|\n",
       "| S1 | 0.4 | 0.4 | 0.2 | \n",
       "| S2 | 0.2 | 0.5 | 0.3 | \n",
       "| S3 | 0.1 | 0.2 | 0.7 | \n",
       "\n",
       "\n"
      ],
      "text/plain": [
       "   S1  S2  S3 \n",
       "S1 0.4 0.4 0.2\n",
       "S2 0.2 0.5 0.3\n",
       "S3 0.1 0.2 0.7"
      ]
     },
     "metadata": {},
     "output_type": "display_data"
    },
    {
     "data": {
      "text/html": [
       "<table>\n",
       "<thead><tr><th></th><th scope=col>S1</th><th scope=col>S2</th><th scope=col>S3</th></tr></thead>\n",
       "<tbody>\n",
       "\t<tr><th scope=row>S1</th><td>0.4</td><td>0.8</td><td>1  </td></tr>\n",
       "\t<tr><th scope=row>S2</th><td>0.2</td><td>0.7</td><td>1  </td></tr>\n",
       "\t<tr><th scope=row>S3</th><td>0.1</td><td>0.3</td><td>1  </td></tr>\n",
       "</tbody>\n",
       "</table>\n"
      ],
      "text/latex": [
       "\\begin{tabular}{r|lll}\n",
       "  & S1 & S2 & S3\\\\\n",
       "\\hline\n",
       "\tS1 & 0.4 & 0.8 & 1  \\\\\n",
       "\tS2 & 0.2 & 0.7 & 1  \\\\\n",
       "\tS3 & 0.1 & 0.3 & 1  \\\\\n",
       "\\end{tabular}\n"
      ],
      "text/markdown": [
       "\n",
       "| <!--/--> | S1 | S2 | S3 | \n",
       "|---|---|---|\n",
       "| S1 | 0.4 | 0.8 | 1   | \n",
       "| S2 | 0.2 | 0.7 | 1   | \n",
       "| S3 | 0.1 | 0.3 | 1   | \n",
       "\n",
       "\n"
      ],
      "text/plain": [
       "   S1  S2  S3\n",
       "S1 0.4 0.8 1 \n",
       "S2 0.2 0.7 1 \n",
       "S3 0.1 0.3 1 "
      ]
     },
     "metadata": {},
     "output_type": "display_data"
    }
   ],
   "source": [
    "estados=c('S1','S2','S3') #espacio de estados\n",
    "mu0= c(.4,.4,2) #distribucion inicial\n",
    "names(mu0) = estados\n",
    "P=rbind(c(.4,.4,.2),c(.2,.5,.3),c(.1,.2,.7)) #matrix de transicion\n",
    "dimnames(P)=list(estados,estados)\n",
    "P\n",
    "func.inic =cumsum(mu0) #funcion iniciacion\n",
    "(func.act= t(apply(P,1,cumsum))) #funcion de actualizacion\n",
    "n=1000 #numero de simulaciones deseadas\n",
    "U = runif(n) #uniformes U1,...,Un en [0,1]\n",
    "X=numeric(n)*NA #vector de valores simulados de la cadena, a completar\n",
    "j=1\n",
    "while(U[1]>func.inic[j])\n",
    "j=j+1\n",
    "X[1]=estados[j]\n",
    "for (i in 2:n) {\n",
    "    j = 1; while(U[i] > func.act[X[i - 1], j]) j = j + 1;\n",
    "    X[i] <- estados[j]\n",
    "}"
   ]
  },
  {
   "cell_type": "code",
   "execution_count": 7,
   "metadata": {},
   "outputs": [
    {
     "data": {
      "text/html": [
       "<ol class=list-inline>\n",
       "\t<li>'S2'</li>\n",
       "\t<li>'S2'</li>\n",
       "\t<li>'S2'</li>\n",
       "\t<li>'S1'</li>\n",
       "\t<li>'S1'</li>\n",
       "\t<li>'S1'</li>\n",
       "\t<li>'S1'</li>\n",
       "\t<li>'S3'</li>\n",
       "\t<li>'S2'</li>\n",
       "\t<li>'S2'</li>\n",
       "\t<li>'S3'</li>\n",
       "\t<li>'S2'</li>\n",
       "\t<li>'S3'</li>\n",
       "\t<li>'S1'</li>\n",
       "\t<li>'S2'</li>\n",
       "\t<li>'S3'</li>\n",
       "\t<li>'S2'</li>\n",
       "\t<li>'S3'</li>\n",
       "\t<li>'S2'</li>\n",
       "\t<li>'S2'</li>\n",
       "\t<li>'S2'</li>\n",
       "\t<li>'S2'</li>\n",
       "\t<li>'S2'</li>\n",
       "\t<li>'S3'</li>\n",
       "\t<li>'S2'</li>\n",
       "\t<li>'S1'</li>\n",
       "\t<li>'S1'</li>\n",
       "\t<li>'S1'</li>\n",
       "\t<li>'S2'</li>\n",
       "\t<li>'S1'</li>\n",
       "</ol>\n"
      ],
      "text/latex": [
       "\\begin{enumerate*}\n",
       "\\item 'S2'\n",
       "\\item 'S2'\n",
       "\\item 'S2'\n",
       "\\item 'S1'\n",
       "\\item 'S1'\n",
       "\\item 'S1'\n",
       "\\item 'S1'\n",
       "\\item 'S3'\n",
       "\\item 'S2'\n",
       "\\item 'S2'\n",
       "\\item 'S3'\n",
       "\\item 'S2'\n",
       "\\item 'S3'\n",
       "\\item 'S1'\n",
       "\\item 'S2'\n",
       "\\item 'S3'\n",
       "\\item 'S2'\n",
       "\\item 'S3'\n",
       "\\item 'S2'\n",
       "\\item 'S2'\n",
       "\\item 'S2'\n",
       "\\item 'S2'\n",
       "\\item 'S2'\n",
       "\\item 'S3'\n",
       "\\item 'S2'\n",
       "\\item 'S1'\n",
       "\\item 'S1'\n",
       "\\item 'S1'\n",
       "\\item 'S2'\n",
       "\\item 'S1'\n",
       "\\end{enumerate*}\n"
      ],
      "text/markdown": [
       "1. 'S2'\n",
       "2. 'S2'\n",
       "3. 'S2'\n",
       "4. 'S1'\n",
       "5. 'S1'\n",
       "6. 'S1'\n",
       "7. 'S1'\n",
       "8. 'S3'\n",
       "9. 'S2'\n",
       "10. 'S2'\n",
       "11. 'S3'\n",
       "12. 'S2'\n",
       "13. 'S3'\n",
       "14. 'S1'\n",
       "15. 'S2'\n",
       "16. 'S3'\n",
       "17. 'S2'\n",
       "18. 'S3'\n",
       "19. 'S2'\n",
       "20. 'S2'\n",
       "21. 'S2'\n",
       "22. 'S2'\n",
       "23. 'S2'\n",
       "24. 'S3'\n",
       "25. 'S2'\n",
       "26. 'S1'\n",
       "27. 'S1'\n",
       "28. 'S1'\n",
       "29. 'S2'\n",
       "30. 'S1'\n",
       "\n",
       "\n"
      ],
      "text/plain": [
       " [1] \"S2\" \"S2\" \"S2\" \"S1\" \"S1\" \"S1\" \"S1\" \"S3\" \"S2\" \"S2\" \"S3\" \"S2\" \"S3\" \"S1\" \"S2\"\n",
       "[16] \"S3\" \"S2\" \"S3\" \"S2\" \"S2\" \"S2\" \"S2\" \"S2\" \"S3\" \"S2\" \"S1\" \"S1\" \"S1\" \"S2\" \"S1\""
      ]
     },
     "metadata": {},
     "output_type": "display_data"
    }
   ],
   "source": [
    "X[1:30] #imprimiendo los 30 primero valores "
   ]
  },
  {
   "cell_type": "code",
   "execution_count": 8,
   "metadata": {},
   "outputs": [],
   "source": [
    "x1=as.numeric(X=='S1') #creamos un vector con las distribuciones de S1\n",
    "x2=as.numeric(X=='S2')*2 #creamos un vector con las distribuciones de S2\n",
    "x3=as.numeric(X=='S3')*3 #creamo un vector con las distribuciones de S3\n",
    "a=x1+x2+x3"
   ]
  },
  {
   "cell_type": "code",
   "execution_count": 9,
   "metadata": {},
   "outputs": [
    {
     "data": {
      "image/png": "[encoded data removed]",
      "text/plain": [
       "plot without title"
      ]
     },
     "metadata": {},
     "output_type": "display_data"
    }
   ],
   "source": [
    "plot(1:100, a[1:100],type= 'b',col = 'blue',lwd = 1,las =.2, ylab= 'Estados',xlab='Tiempo',lty=10)"
   ]
  },
  {
   "cell_type": "code",
   "execution_count": null,
   "metadata": {},
   "outputs": [],
   "source": []
  }
 ],
 "metadata": {
  "kernelspec": {
   "display_name": "R",
   "language": "R",
   "name": "ir"
  },
  "language_info": {
   "codemirror_mode": "r",
   "file_extension": ".r",
   "mimetype": "text/x-r-source",
   "name": "R",
   "pygments_lexer": "r",
   "version": "3.4.3"
  }
 },
 "nbformat": 4,
 "nbformat_minor": 2
}
